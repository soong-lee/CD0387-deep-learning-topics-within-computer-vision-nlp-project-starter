{
 "cells": [
  {
   "cell_type": "markdown",
   "metadata": {},
   "source": [
    "# TODO: Title\n",
    "\n",
    "This notebook lists all the steps that you need to complete the complete this project. You will need to complete all the TODOs in this notebook as well as in the README and the two python scripts included with the starter code.\n",
    "\n",
    "\n",
    "**TODO**: Give a helpful introduction to what this notebook is for. Remember that comments, explanations and good documentation make your project informative and professional.\n",
    "\n",
    "**Note:** This notebook has a bunch of code and markdown cells with TODOs that you have to complete. These are meant to be helpful guidelines for you to finish your project while meeting the requirements in the project rubrics. Feel free to change the order of these the TODO's and use more than one TODO code cell to do all your tasks."
   ]
  },
  {
   "cell_type": "code",
   "execution_count": 1,
   "metadata": {
    "scrolled": true
   },
   "outputs": [
    {
     "name": "stdout",
     "output_type": "stream",
     "text": [
      "Collecting smdebug\n",
      "  Using cached smdebug-1.0.34-py2.py3-none-any.whl.metadata (1.8 kB)\n",
      "Collecting protobuf<=3.20.3,>=3.20.0 (from smdebug)\n",
      "  Using cached protobuf-3.20.3-py2.py3-none-any.whl.metadata (720 bytes)\n",
      "Requirement already satisfied: numpy>=1.16.0 in /opt/conda/lib/python3.11/site-packages (from smdebug) (1.26.4)\n",
      "Requirement already satisfied: packaging in /opt/conda/lib/python3.11/site-packages (from smdebug) (24.1)\n",
      "Requirement already satisfied: boto3>=1.10.32 in /opt/conda/lib/python3.11/site-packages (from smdebug) (1.34.162)\n",
      "Collecting pyinstrument==3.4.2 (from smdebug)\n",
      "  Using cached pyinstrument-3.4.2-py2.py3-none-any.whl.metadata (22 kB)\n",
      "Collecting pyinstrument-cext>=0.2.2 (from pyinstrument==3.4.2->smdebug)\n",
      "  Using cached pyinstrument_cext-0.2.4-cp311-cp311-linux_x86_64.whl\n",
      "Requirement already satisfied: botocore<1.35.0,>=1.34.162 in /opt/conda/lib/python3.11/site-packages (from boto3>=1.10.32->smdebug) (1.34.162)\n",
      "Requirement already satisfied: jmespath<2.0.0,>=0.7.1 in /opt/conda/lib/python3.11/site-packages (from boto3>=1.10.32->smdebug) (1.0.1)\n",
      "Requirement already satisfied: s3transfer<0.11.0,>=0.10.0 in /opt/conda/lib/python3.11/site-packages (from boto3>=1.10.32->smdebug) (0.10.3)\n",
      "Requirement already satisfied: python-dateutil<3.0.0,>=2.1 in /opt/conda/lib/python3.11/site-packages (from botocore<1.35.0,>=1.34.162->boto3>=1.10.32->smdebug) (2.9.0)\n",
      "Requirement already satisfied: urllib3!=2.2.0,<3,>=1.25.4 in /opt/conda/lib/python3.11/site-packages (from botocore<1.35.0,>=1.34.162->boto3>=1.10.32->smdebug) (1.26.19)\n",
      "Requirement already satisfied: six>=1.5 in /opt/conda/lib/python3.11/site-packages (from python-dateutil<3.0.0,>=2.1->botocore<1.35.0,>=1.34.162->boto3>=1.10.32->smdebug) (1.16.0)\n",
      "Using cached smdebug-1.0.34-py2.py3-none-any.whl (280 kB)\n",
      "Using cached pyinstrument-3.4.2-py2.py3-none-any.whl (83 kB)\n",
      "Using cached protobuf-3.20.3-py2.py3-none-any.whl (162 kB)\n",
      "Installing collected packages: pyinstrument-cext, pyinstrument, protobuf, smdebug\n",
      "  Attempting uninstall: protobuf\n",
      "    Found existing installation: protobuf 4.25.3\n",
      "    Uninstalling protobuf-4.25.3:\n",
      "      Successfully uninstalled protobuf-4.25.3\n",
      "Successfully installed protobuf-3.20.3 pyinstrument-3.4.2 pyinstrument-cext-0.2.4 smdebug-1.0.34\n"
     ]
    }
   ],
   "source": [
    "# TODO: Install any packages that you might need\n",
    "# For instance, you will need the smdebug package\n",
    "!pip install smdebug"
   ]
  },
  {
   "cell_type": "code",
   "execution_count": 2,
   "metadata": {},
   "outputs": [
    {
     "name": "stdout",
     "output_type": "stream",
     "text": [
      "sagemaker.config INFO - Not applying SDK defaults from location: /etc/xdg/sagemaker/config.yaml\n",
      "sagemaker.config INFO - Not applying SDK defaults from location: /home/sagemaker-user/.config/sagemaker/config.yaml\n"
     ]
    }
   ],
   "source": [
    "# TODO: Import any packages that you might need\n",
    "# For instance you will need Boto3 and Sagemaker\n",
    "import sagemaker\n",
    "import boto3\n",
    "from sagemaker.pytorch import PyTorch\n",
    "from sagemaker import get_execution_role"
   ]
  },
  {
   "cell_type": "markdown",
   "metadata": {},
   "source": [
    "## Dataset\n",
    "TODO: Explain what dataset you are using for this project. Maybe even give a small overview of the classes, class distributions etc that can help anyone not familiar with the dataset get a better understand of it."
   ]
  },
  {
   "cell_type": "code",
   "execution_count": 3,
   "metadata": {},
   "outputs": [],
   "source": [
    "#TODO: Fetch and upload the data to AWS S3\n",
    "\n",
    "# Command to download and unzip data\n",
    "# !wget https://s3-us-west-1.amazonaws.com/udacity-aind/dog-project/dogImages.zip\n",
    "# !unzip dogImages.zip"
   ]
  },
  {
   "cell_type": "code",
   "execution_count": 4,
   "metadata": {},
   "outputs": [],
   "source": [
    "import os "
   ]
  },
  {
   "cell_type": "code",
   "execution_count": 5,
   "metadata": {},
   "outputs": [],
   "source": [
    "role = get_execution_role()\n",
    "bucket='project-dog-breeds'"
   ]
  },
  {
   "cell_type": "code",
   "execution_count": 6,
   "metadata": {},
   "outputs": [],
   "source": [
    "from io import BytesIO\n",
    "from PIL import ImageFile\n",
    "ImageFile.LOAD_TRUNCATED_IMAGES = True"
   ]
  },
  {
   "cell_type": "markdown",
   "metadata": {},
   "source": [
    "## Hyperparameter Tuning\n",
    "**TODO:** This is the part where you will finetune a pretrained model with hyperparameter tuning. Remember that you have to tune a minimum of two hyperparameters. However you are encouraged to tune more. You are also encouraged to explain why you chose to tune those particular hyperparameters and the ranges.\n",
    "\n",
    "**Note:** You will need to use the `hpo.py` script to perform hyperparameter tuning."
   ]
  },
  {
   "cell_type": "code",
   "execution_count": 7,
   "metadata": {},
   "outputs": [],
   "source": [
    "#TODO: Declare your HP ranges, metrics etc.\n",
    "from sagemaker.tuner import (\n",
    "        CategoricalParameter, \n",
    "        ContinuousParameter, \n",
    "        HyperparameterTuner, \n",
    "        IntegerParameter\n",
    ")\n",
    "\n",
    "hyperparameter_ranges = {\n",
    "    'learning_rate': ContinuousParameter(0.001, 0.1),\n",
    "    'batch_size': CategoricalParameter([16 ,32, 64, 128, 256])\n",
    "}\n",
    "\n",
    "objective_metric_name = 'average test loss'\n",
    "objective_type = 'Minimize'\n",
    "metric_definitions = [{'Name': 'average test loss', 'Regex': 'Test Average Loss: ([0-9\\\\.]+)'}]"
   ]
  },
  {
   "cell_type": "code",
   "execution_count": 8,
   "metadata": {},
   "outputs": [],
   "source": [
    "#TODO: Create estimators for your HPs\n",
    "\n",
    "estimator = PyTorch(\n",
    "    entry_point = 'hpo.py',\n",
    "    base_job_name = 'dog-breed-classification-hyperparameter',\n",
    "    role = role,\n",
    "    instance_count = 1,\n",
    "    instance_type = 'ml.m5.2xlarge',\n",
    "    framework_version = '1.9',\n",
    "    py_version = 'py38'\n",
    ")\n",
    "\n",
    "tuner = HyperparameterTuner(\n",
    "    estimator,\n",
    "    objective_metric_name,\n",
    "    hyperparameter_ranges,\n",
    "    metric_definitions,\n",
    "    objective_type=objective_type,\n",
    "    max_jobs=4,\n",
    "    max_parallel_jobs=1\n",
    ")   "
   ]
  },
  {
   "cell_type": "code",
   "execution_count": 9,
   "metadata": {},
   "outputs": [
    {
     "data": {
      "text/plain": [
       "'s3://project-dog-breeds/dogImages/'"
      ]
     },
     "execution_count": 9,
     "metadata": {},
     "output_type": "execute_result"
    }
   ],
   "source": [
    "data_path = f's3://{bucket}/dogImages/'\n",
    "data_path"
   ]
  },
  {
   "cell_type": "code",
   "execution_count": 10,
   "metadata": {},
   "outputs": [],
   "source": [
    "data_path_mini = f's3://{bucket}/dogImages-mini/'\n",
    "data_path_short = f's3://{bucket}/dogImages-short/'"
   ]
  },
  {
   "cell_type": "code",
   "execution_count": 11,
   "metadata": {},
   "outputs": [],
   "source": [
    "# TODO: Fit your HP Tuner\n",
    "#tuner.fit({'train': data_path}, wait=True) # TODO: Remember to include your data channels"
   ]
  },
  {
   "cell_type": "code",
   "execution_count": 12,
   "metadata": {},
   "outputs": [],
   "source": [
    "# TODO: Get the best estimators and the best HPs\n",
    "\n",
    "#best_estimator = tuner.best_estimator()\n",
    "\n",
    "#Get the hyperparameters of the best trained model\n",
    "#best_estimator.hyperparameters()"
   ]
  },
  {
   "cell_type": "code",
   "execution_count": 13,
   "metadata": {},
   "outputs": [],
   "source": [
    "best_hyperparameters = {'batch_size': 256, 'learning_rate': 0.03620856736835261}"
   ]
  },
  {
   "cell_type": "code",
   "execution_count": 14,
   "metadata": {},
   "outputs": [],
   "source": [
    "#tuner.best_training_job()"
   ]
  },
  {
   "cell_type": "markdown",
   "metadata": {},
   "source": [
    "## Model Profiling and Debugging\n",
    "TODO: Using the best hyperparameters, create and finetune a new model\n",
    "\n",
    "**Note:** You will need to use the `train_model.py` script to perform model profiling and debugging."
   ]
  },
  {
   "cell_type": "code",
   "execution_count": 15,
   "metadata": {},
   "outputs": [],
   "source": [
    "best_hyperparameters_reduced_batch_size = {'batch_size': 64, 'learning_rate': 0.03620856736835261}"
   ]
  },
  {
   "cell_type": "code",
   "execution_count": 16,
   "metadata": {},
   "outputs": [
    {
     "name": "stderr",
     "output_type": "stream",
     "text": [
      "Framework profiling will be deprecated from tensorflow 2.12 and pytorch 2.0 in sagemaker>=2.\n",
      "See: https://sagemaker.readthedocs.io/en/stable/v2.html for details.\n"
     ]
    }
   ],
   "source": [
    "# TODO: Set up debugging and profiling rules and hooks\n",
    "from sagemaker.debugger import (\n",
    "    Rule, \n",
    "    rule_configs, \n",
    "    ProfilerRule, \n",
    "    DebuggerHookConfig, \n",
    "    CollectionConfig, \n",
    "    ProfilerConfig, \n",
    "    FrameworkProfile\n",
    ")\n",
    "\n",
    "rules = [\n",
    "    Rule.sagemaker(rule_configs.vanishing_gradient()),\n",
    "    Rule.sagemaker(rule_configs.overfit()),\n",
    "    Rule.sagemaker(rule_configs.overtraining()),\n",
    "    Rule.sagemaker(rule_configs.poor_weight_initialization()),\n",
    "    ProfilerRule.sagemaker(rule_configs.ProfilerReport())\n",
    "]\n",
    "\n",
    "profiler_config = ProfilerConfig(\n",
    "    system_monitor_interval_millis=500,\n",
    "    framework_profile_params=FrameworkProfile(num_steps=10)\n",
    ")\n",
    "\n",
    "# collection of parameters. collection saved at s3://course4-project/dog-breeds/hook.\n",
    "collection_config_biases = CollectionConfig(name='biases')\n",
    "collection_config_weights = CollectionConfig(name='weights')\n",
    "collection_config_losses = CollectionConfig(name='losses')\n",
    "\n",
    "# debugger_hook_config = DebuggerHookConfig(\n",
    "#     s3_output_path=f\"s3://{bucket}/dog-breeds/hook\",\n",
    "#     hook_parameters={\n",
    "#         'save_interval': '100'\n",
    "#     },\n",
    "#     collection_configs=[\n",
    "#         collection_config_biases,\n",
    "#         collection_config_weights,\n",
    "#         collection_config_losses\n",
    "#     ]\n",
    "# )"
   ]
  },
  {
   "cell_type": "code",
   "execution_count": 17,
   "metadata": {},
   "outputs": [],
   "source": [
    "# debugger_hook_config = DebuggerHookConfig(\n",
    "#     hook_parameters={\n",
    "#         \"train.save_interval\": \"10\",\n",
    "#         \"eval.save_interval\": \"1\"\n",
    "#     }\n",
    "# )"
   ]
  },
  {
   "cell_type": "code",
   "execution_count": 18,
   "metadata": {},
   "outputs": [],
   "source": [
    "collection_config = [CollectionConfig(\n",
    "                                    name=\"losses\",\n",
    "                                    parameters={\"include_regex\": \"Test Average Loss\",\n",
    "                                                \"train.save_interval\": \"10\",\n",
    "                                                \"eval.save_interval\": \"1\"})\n",
    "                        ]\n",
    "    \n",
    "debugger_hook_config = DebuggerHookConfig(collection_configs = collection_config)"
   ]
  },
  {
   "cell_type": "code",
   "execution_count": 19,
   "metadata": {},
   "outputs": [],
   "source": [
    "# TODO: Create and fit an estimator\n",
    "\n",
    "estimator = PyTorch( \n",
    "    entry_point='train_model.py',\n",
    "    role=role,\n",
    "    instance_count=1,\n",
    "    base_job_name='debugger-dog-breeds-job',\n",
    "    instance_type='ml.p2.xlarge', \n",
    "    framework_version='1.9',\n",
    "    py_version='py38',\n",
    "    hyperparameters=best_hyperparameters_reduced_batch_size,\n",
    "    metric_definitions=metric_definitions,\n",
    "    rules = rules,\n",
    "    profiler_config = profiler_config, \n",
    "    debugger_hook_config = debugger_hook_config\n",
    ")"
   ]
  },
  {
   "cell_type": "code",
   "execution_count": 20,
   "metadata": {
    "scrolled": true
   },
   "outputs": [
    {
     "name": "stderr",
     "output_type": "stream",
     "text": [
      "INFO:sagemaker.image_uris:image_uri is not presented, retrieving image_uri based on instance_type, framework etc.\n",
      "INFO:sagemaker:Creating training-job with name: debugger-dog-breeds-job-2024-11-20-22-14-09-147\n"
     ]
    },
    {
     "name": "stdout",
     "output_type": "stream",
     "text": [
      "2024-11-20 22:14:12 Starting - Starting the training job...\n",
      "2024-11-20 22:14:40 Starting - Preparing the instances for trainingVanishingGradient: InProgress\n",
      "Overfit: InProgress\n",
      "Overtraining: InProgress\n",
      "PoorWeightInitialization: InProgress\n",
      "ProfilerReport: InProgress\n",
      "......\n",
      "2024-11-20 22:15:40 Downloading - Downloading input data......\n",
      "2024-11-20 22:16:41 Downloading - Downloading the training image..............................\n",
      "2024-11-20 22:21:46 Training - Training image download completed. Training in progress....\u001b[34mbash: cannot set terminal process group (-1): Inappropriate ioctl for device\u001b[0m\n",
      "\u001b[34mbash: no job control in this shell\u001b[0m\n",
      "\u001b[34m2024-11-20 22:22:04,810 sagemaker-training-toolkit INFO     Imported framework sagemaker_pytorch_container.training\u001b[0m\n",
      "\u001b[34m2024-11-20 22:22:04,844 sagemaker_pytorch_container.training INFO     Block until all host DNS lookups succeed.\u001b[0m\n",
      "\u001b[34m2024-11-20 22:22:04,848 sagemaker_pytorch_container.training INFO     Invoking user training script.\u001b[0m\n",
      "\u001b[34m2024-11-20 22:22:05,212 sagemaker-training-toolkit INFO     Invoking user script\u001b[0m\n",
      "\u001b[34mTraining Env:\u001b[0m\n",
      "\u001b[34m{\n",
      "    \"additional_framework_parameters\": {},\n",
      "    \"channel_input_dirs\": {\n",
      "        \"train\": \"/opt/ml/input/data/train\"\n",
      "    },\n",
      "    \"current_host\": \"algo-1\",\n",
      "    \"framework_module\": \"sagemaker_pytorch_container.training:main\",\n",
      "    \"hosts\": [\n",
      "        \"algo-1\"\n",
      "    ],\n",
      "    \"hyperparameters\": {\n",
      "        \"batch_size\": 64,\n",
      "        \"learning_rate\": 0.03620856736835261\n",
      "    },\n",
      "    \"input_config_dir\": \"/opt/ml/input/config\",\n",
      "    \"input_data_config\": {\n",
      "        \"train\": {\n",
      "            \"TrainingInputMode\": \"File\",\n",
      "            \"S3DistributionType\": \"FullyReplicated\",\n",
      "            \"RecordWrapperType\": \"None\"\n",
      "        }\n",
      "    },\n",
      "    \"input_dir\": \"/opt/ml/input\",\n",
      "    \"is_master\": true,\n",
      "    \"job_name\": \"debugger-dog-breeds-job-2024-11-20-22-14-09-147\",\n",
      "    \"log_level\": 20,\n",
      "    \"master_hostname\": \"algo-1\",\n",
      "    \"model_dir\": \"/opt/ml/model\",\n",
      "    \"module_dir\": \"s3://sagemaker-us-east-1-339840815706/debugger-dog-breeds-job-2024-11-20-22-14-09-147/source/sourcedir.tar.gz\",\n",
      "    \"module_name\": \"train_model\",\n",
      "    \"network_interface_name\": \"eth0\",\n",
      "    \"num_cpus\": 4,\n",
      "    \"num_gpus\": 1,\n",
      "    \"output_data_dir\": \"/opt/ml/output/data\",\n",
      "    \"output_dir\": \"/opt/ml/output\",\n",
      "    \"output_intermediate_dir\": \"/opt/ml/output/intermediate\",\n",
      "    \"resource_config\": {\n",
      "        \"current_host\": \"algo-1\",\n",
      "        \"current_instance_type\": \"ml.p2.xlarge\",\n",
      "        \"current_group_name\": \"homogeneousCluster\",\n",
      "        \"hosts\": [\n",
      "            \"algo-1\"\n",
      "        ],\n",
      "        \"instance_groups\": [\n",
      "            {\n",
      "                \"instance_group_name\": \"homogeneousCluster\",\n",
      "                \"instance_type\": \"ml.p2.xlarge\",\n",
      "                \"hosts\": [\n",
      "                    \"algo-1\"\n",
      "                ]\n",
      "            }\n",
      "        ],\n",
      "        \"network_interface_name\": \"eth0\"\n",
      "    },\n",
      "    \"user_entry_point\": \"train_model.py\"\u001b[0m\n",
      "\u001b[34m}\u001b[0m\n",
      "\u001b[34mEnvironment variables:\u001b[0m\n",
      "\u001b[34mSM_HOSTS=[\"algo-1\"]\u001b[0m\n",
      "\u001b[34mSM_NETWORK_INTERFACE_NAME=eth0\u001b[0m\n",
      "\u001b[34mSM_HPS={\"batch_size\":64,\"learning_rate\":0.03620856736835261}\u001b[0m\n",
      "\u001b[34mSM_USER_ENTRY_POINT=train_model.py\u001b[0m\n",
      "\u001b[34mSM_FRAMEWORK_PARAMS={}\u001b[0m\n",
      "\u001b[34mSM_RESOURCE_CONFIG={\"current_group_name\":\"homogeneousCluster\",\"current_host\":\"algo-1\",\"current_instance_type\":\"ml.p2.xlarge\",\"hosts\":[\"algo-1\"],\"instance_groups\":[{\"hosts\":[\"algo-1\"],\"instance_group_name\":\"homogeneousCluster\",\"instance_type\":\"ml.p2.xlarge\"}],\"network_interface_name\":\"eth0\"}\u001b[0m\n",
      "\u001b[34mSM_INPUT_DATA_CONFIG={\"train\":{\"RecordWrapperType\":\"None\",\"S3DistributionType\":\"FullyReplicated\",\"TrainingInputMode\":\"File\"}}\u001b[0m\n",
      "\u001b[34mSM_OUTPUT_DATA_DIR=/opt/ml/output/data\u001b[0m\n",
      "\u001b[34mSM_CHANNELS=[\"train\"]\u001b[0m\n",
      "\u001b[34mSM_CURRENT_HOST=algo-1\u001b[0m\n",
      "\u001b[34mSM_MODULE_NAME=train_model\u001b[0m\n",
      "\u001b[34mSM_LOG_LEVEL=20\u001b[0m\n",
      "\u001b[34mSM_FRAMEWORK_MODULE=sagemaker_pytorch_container.training:main\u001b[0m\n",
      "\u001b[34mSM_INPUT_DIR=/opt/ml/input\u001b[0m\n",
      "\u001b[34mSM_INPUT_CONFIG_DIR=/opt/ml/input/config\u001b[0m\n",
      "\u001b[34mSM_OUTPUT_DIR=/opt/ml/output\u001b[0m\n",
      "\u001b[34mSM_NUM_CPUS=4\u001b[0m\n",
      "\u001b[34mSM_NUM_GPUS=1\u001b[0m\n",
      "\u001b[34mSM_MODEL_DIR=/opt/ml/model\u001b[0m\n",
      "\u001b[34mSM_MODULE_DIR=s3://sagemaker-us-east-1-339840815706/debugger-dog-breeds-job-2024-11-20-22-14-09-147/source/sourcedir.tar.gz\u001b[0m\n",
      "\u001b[34mSM_TRAINING_ENV={\"additional_framework_parameters\":{},\"channel_input_dirs\":{\"train\":\"/opt/ml/input/data/train\"},\"current_host\":\"algo-1\",\"framework_module\":\"sagemaker_pytorch_container.training:main\",\"hosts\":[\"algo-1\"],\"hyperparameters\":{\"batch_size\":64,\"learning_rate\":0.03620856736835261},\"input_config_dir\":\"/opt/ml/input/config\",\"input_data_config\":{\"train\":{\"RecordWrapperType\":\"None\",\"S3DistributionType\":\"FullyReplicated\",\"TrainingInputMode\":\"File\"}},\"input_dir\":\"/opt/ml/input\",\"is_master\":true,\"job_name\":\"debugger-dog-breeds-job-2024-11-20-22-14-09-147\",\"log_level\":20,\"master_hostname\":\"algo-1\",\"model_dir\":\"/opt/ml/model\",\"module_dir\":\"s3://sagemaker-us-east-1-339840815706/debugger-dog-breeds-job-2024-11-20-22-14-09-147/source/sourcedir.tar.gz\",\"module_name\":\"train_model\",\"network_interface_name\":\"eth0\",\"num_cpus\":4,\"num_gpus\":1,\"output_data_dir\":\"/opt/ml/output/data\",\"output_dir\":\"/opt/ml/output\",\"output_intermediate_dir\":\"/opt/ml/output/intermediate\",\"resource_config\":{\"current_group_name\":\"homogeneousCluster\",\"current_host\":\"algo-1\",\"current_instance_type\":\"ml.p2.xlarge\",\"hosts\":[\"algo-1\"],\"instance_groups\":[{\"hosts\":[\"algo-1\"],\"instance_group_name\":\"homogeneousCluster\",\"instance_type\":\"ml.p2.xlarge\"}],\"network_interface_name\":\"eth0\"},\"user_entry_point\":\"train_model.py\"}\u001b[0m\n",
      "\u001b[34mSM_USER_ARGS=[\"--batch_size\",\"64\",\"--learning_rate\",\"0.03620856736835261\"]\u001b[0m\n",
      "\u001b[34mSM_OUTPUT_INTERMEDIATE_DIR=/opt/ml/output/intermediate\u001b[0m\n",
      "\u001b[34mSM_CHANNEL_TRAIN=/opt/ml/input/data/train\u001b[0m\n",
      "\u001b[34mSM_HP_BATCH_SIZE=64\u001b[0m\n",
      "\u001b[34mSM_HP_LEARNING_RATE=0.03620856736835261\u001b[0m\n",
      "\u001b[34mPYTHONPATH=/opt/ml/code:/opt/conda/bin:/opt/conda/lib/python38.zip:/opt/conda/lib/python3.8:/opt/conda/lib/python3.8/lib-dynload:/opt/conda/lib/python3.8/site-packages\u001b[0m\n",
      "\u001b[34mInvoking script with the following command:\u001b[0m\n",
      "\u001b[34m/opt/conda/bin/python train_model.py --batch_size 64 --learning_rate 0.03620856736835261\u001b[0m\n",
      "\u001b[34m[2024-11-20 22:22:06.579 algo-1:34 INFO utils.py:27] RULE_JOB_STOP_SIGNAL_FILENAME: None\u001b[0m\n",
      "\u001b[34m[2024-11-20 22:22:06.620 algo-1:34 INFO profiler_config_parser.py:102] Using config at /opt/ml/input/config/profilerconfig.json.\u001b[0m\n",
      "\u001b[34mDownloading: \"https://download.pytorch.org/models/resnet50-0676ba61.pth\" to /root/.cache/torch/hub/checkpoints/resnet50-0676ba61.pth\u001b[0m\n",
      "\u001b[34m0%|          | 0.00/97.8M [00:00<?, ?B/s]\u001b[0m\n",
      "\u001b[34m6%|▌         | 6.05M/97.8M [00:00<00:01, 63.5MB/s]\u001b[0m\n",
      "\u001b[34m13%|█▎        | 12.6M/97.8M [00:00<00:01, 66.6MB/s]\u001b[0m\n",
      "\u001b[34m19%|█▉        | 19.0M/97.8M [00:00<00:01, 66.7MB/s]\u001b[0m\n",
      "\u001b[34m26%|██▌       | 25.4M/97.8M [00:00<00:01, 62.0MB/s]\u001b[0m\n",
      "\u001b[34m32%|███▏      | 31.8M/97.8M [00:00<00:01, 63.7MB/s]\u001b[0m\n",
      "\u001b[34m39%|███▊      | 37.9M/97.8M [00:00<00:00, 63.5MB/s]\u001b[0m\n",
      "\u001b[34m45%|████▌     | 44.1M/97.8M [00:00<00:00, 64.2MB/s]\u001b[0m\n",
      "\u001b[34m52%|█████▏    | 50.7M/97.8M [00:00<00:00, 65.7MB/s]\u001b[0m\n",
      "\u001b[34m58%|█████▊    | 57.2M/97.8M [00:00<00:00, 66.3MB/s]\u001b[0m\n",
      "\u001b[34m65%|██████▌   | 63.8M/97.8M [00:01<00:00, 67.2MB/s]\u001b[0m\n",
      "\u001b[34m72%|███████▏  | 70.4M/97.8M [00:01<00:00, 68.0MB/s]\u001b[0m\n",
      "\u001b[34m79%|███████▉  | 77.1M/97.8M [00:01<00:00, 68.7MB/s]\u001b[0m\n",
      "\u001b[34m86%|████████▌ | 83.8M/97.8M [00:01<00:00, 69.1MB/s]\u001b[0m\n",
      "\u001b[34m93%|█████████▎| 90.5M/97.8M [00:01<00:00, 69.3MB/s]\u001b[0m\n",
      "\u001b[34m99%|█████████▉| 97.2M/97.8M [00:01<00:00, 69.7MB/s]\u001b[0m\n",
      "\u001b[34m100%|██████████| 97.8M/97.8M [00:01<00:00, 66.9MB/s]\u001b[0m\n",
      "\u001b[34m[2024-11-20 22:22:09.035 algo-1:34 INFO json_config.py:91] Creating hook from json_config at /opt/ml/input/config/debughookconfig.json.\u001b[0m\n",
      "\u001b[34m[2024-11-20 22:22:09.037 algo-1:34 INFO hook.py:200] tensorboard_dir has not been set for the hook. SMDebug will not be exporting tensorboard summaries.\u001b[0m\n",
      "\u001b[34m[2024-11-20 22:22:09.039 algo-1:34 INFO hook.py:255] Saving to /opt/ml/output/tensors\u001b[0m\n",
      "\u001b[34m[2024-11-20 22:22:09.039 algo-1:34 INFO state_store.py:77] The checkpoint config file /opt/ml/input/config/checkpointconfig.json does not exist.\u001b[0m\n",
      "\u001b[34m[2024-11-20 22:22:09.115 algo-1:34 INFO hook.py:591] name:conv1.weight count_params:9408\u001b[0m\n",
      "\u001b[34m[2024-11-20 22:22:09.116 algo-1:34 INFO hook.py:591] name:bn1.weight count_params:64\u001b[0m\n",
      "\u001b[34m[2024-11-20 22:22:09.116 algo-1:34 INFO hook.py:591] name:bn1.bias count_params:64\u001b[0m\n",
      "\u001b[34m[2024-11-20 22:22:09.117 algo-1:34 INFO hook.py:591] name:layer1.0.conv1.weight count_params:4096\u001b[0m\n",
      "\u001b[34m[2024-11-20 22:22:09.117 algo-1:34 INFO hook.py:591] name:layer1.0.bn1.weight count_params:64\u001b[0m\n",
      "\u001b[34m[2024-11-20 22:22:09.118 algo-1:34 INFO hook.py:591] name:layer1.0.bn1.bias count_params:64\u001b[0m\n",
      "\u001b[34m[2024-11-20 22:22:09.118 algo-1:34 INFO hook.py:591] name:layer1.0.conv2.weight count_params:36864\u001b[0m\n",
      "\u001b[34m[2024-11-20 22:22:09.119 algo-1:34 INFO hook.py:591] name:layer1.0.bn2.weight count_params:64\u001b[0m\n",
      "\u001b[34m[2024-11-20 22:22:09.119 algo-1:34 INFO hook.py:591] name:layer1.0.bn2.bias count_params:64\u001b[0m\n",
      "\u001b[34m[2024-11-20 22:22:09.119 algo-1:34 INFO hook.py:591] name:layer1.0.conv3.weight count_params:16384\u001b[0m\n",
      "\u001b[34m[2024-11-20 22:22:09.120 algo-1:34 INFO hook.py:591] name:layer1.0.bn3.weight count_params:256\u001b[0m\n",
      "\u001b[34m[2024-11-20 22:22:09.120 algo-1:34 INFO hook.py:591] name:layer1.0.bn3.bias count_params:256\u001b[0m\n",
      "\u001b[34m[2024-11-20 22:22:09.121 algo-1:34 INFO hook.py:591] name:layer1.0.downsample.0.weight count_params:16384\u001b[0m\n",
      "\u001b[34m[2024-11-20 22:22:09.121 algo-1:34 INFO hook.py:591] name:layer1.0.downsample.1.weight count_params:256\u001b[0m\n",
      "\u001b[34m[2024-11-20 22:22:09.122 algo-1:34 INFO hook.py:591] name:layer1.0.downsample.1.bias count_params:256\u001b[0m\n",
      "\u001b[34m[2024-11-20 22:22:09.122 algo-1:34 INFO hook.py:591] name:layer1.1.conv1.weight count_params:16384\u001b[0m\n",
      "\u001b[34m[2024-11-20 22:22:09.123 algo-1:34 INFO hook.py:591] name:layer1.1.bn1.weight count_params:64\u001b[0m\n",
      "\u001b[34m[2024-11-20 22:22:09.123 algo-1:34 INFO hook.py:591] name:layer1.1.bn1.bias count_params:64\u001b[0m\n",
      "\u001b[34m[2024-11-20 22:22:09.124 algo-1:34 INFO hook.py:591] name:layer1.1.conv2.weight count_params:36864\u001b[0m\n",
      "\u001b[34m[2024-11-20 22:22:09.124 algo-1:34 INFO hook.py:591] name:layer1.1.bn2.weight count_params:64\u001b[0m\n",
      "\u001b[34m[2024-11-20 22:22:09.125 algo-1:34 INFO hook.py:591] name:layer1.1.bn2.bias count_params:64\u001b[0m\n",
      "\u001b[34m[2024-11-20 22:22:09.125 algo-1:34 INFO hook.py:591] name:layer1.1.conv3.weight count_params:16384\u001b[0m\n",
      "\u001b[34m[2024-11-20 22:22:09.126 algo-1:34 INFO hook.py:591] name:layer1.1.bn3.weight count_params:256\u001b[0m\n",
      "\u001b[34m[2024-11-20 22:22:09.126 algo-1:34 INFO hook.py:591] name:layer1.1.bn3.bias count_params:256\u001b[0m\n",
      "\u001b[34m[2024-11-20 22:22:09.127 algo-1:34 INFO hook.py:591] name:layer1.2.conv1.weight count_params:16384\u001b[0m\n",
      "\u001b[34m[2024-11-20 22:22:09.127 algo-1:34 INFO hook.py:591] name:layer1.2.bn1.weight count_params:64\u001b[0m\n",
      "\u001b[34m[2024-11-20 22:22:09.127 algo-1:34 INFO hook.py:591] name:layer1.2.bn1.bias count_params:64\u001b[0m\n",
      "\u001b[34m[2024-11-20 22:22:09.128 algo-1:34 INFO hook.py:591] name:layer1.2.conv2.weight count_params:36864\u001b[0m\n",
      "\u001b[34m[2024-11-20 22:22:09.128 algo-1:34 INFO hook.py:591] name:layer1.2.bn2.weight count_params:64\u001b[0m\n",
      "\u001b[34m[2024-11-20 22:22:09.129 algo-1:34 INFO hook.py:591] name:layer1.2.bn2.bias count_params:64\u001b[0m\n",
      "\u001b[34m[2024-11-20 22:22:09.129 algo-1:34 INFO hook.py:591] name:layer1.2.conv3.weight count_params:16384\u001b[0m\n",
      "\u001b[34m[2024-11-20 22:22:09.129 algo-1:34 INFO hook.py:591] name:layer1.2.bn3.weight count_params:256\u001b[0m\n",
      "\u001b[34m[2024-11-20 22:22:09.130 algo-1:34 INFO hook.py:591] name:layer1.2.bn3.bias count_params:256\u001b[0m\n",
      "\u001b[34m[2024-11-20 22:22:09.130 algo-1:34 INFO hook.py:591] name:layer2.0.conv1.weight count_params:32768\u001b[0m\n",
      "\u001b[34m[2024-11-20 22:22:09.131 algo-1:34 INFO hook.py:591] name:layer2.0.bn1.weight count_params:128\u001b[0m\n",
      "\u001b[34m[2024-11-20 22:22:09.131 algo-1:34 INFO hook.py:591] name:layer2.0.bn1.bias count_params:128\u001b[0m\n",
      "\u001b[34m[2024-11-20 22:22:09.131 algo-1:34 INFO hook.py:591] name:layer2.0.conv2.weight count_params:147456\u001b[0m\n",
      "\u001b[34m[2024-11-20 22:22:09.132 algo-1:34 INFO hook.py:591] name:layer2.0.bn2.weight count_params:128\u001b[0m\n",
      "\u001b[34m[2024-11-20 22:22:09.132 algo-1:34 INFO hook.py:591] name:layer2.0.bn2.bias count_params:128\u001b[0m\n",
      "\u001b[34m[2024-11-20 22:22:09.133 algo-1:34 INFO hook.py:591] name:layer2.0.conv3.weight count_params:65536\u001b[0m\n",
      "\u001b[34m[2024-11-20 22:22:09.133 algo-1:34 INFO hook.py:591] name:layer2.0.bn3.weight count_params:512\u001b[0m\n",
      "\u001b[34m[2024-11-20 22:22:09.133 algo-1:34 INFO hook.py:591] name:layer2.0.bn3.bias count_params:512\u001b[0m\n",
      "\u001b[34m[2024-11-20 22:22:09.134 algo-1:34 INFO hook.py:591] name:layer2.0.downsample.0.weight count_params:131072\u001b[0m\n",
      "\u001b[34m[2024-11-20 22:22:09.135 algo-1:34 INFO hook.py:591] name:layer2.0.downsample.1.weight count_params:512\u001b[0m\n",
      "\u001b[34m[2024-11-20 22:22:09.135 algo-1:34 INFO hook.py:591] name:layer2.0.downsample.1.bias count_params:512\u001b[0m\n",
      "\u001b[34m[2024-11-20 22:22:09.135 algo-1:34 INFO hook.py:591] name:layer2.1.conv1.weight count_params:65536\u001b[0m\n",
      "\u001b[34m[2024-11-20 22:22:09.136 algo-1:34 INFO hook.py:591] name:layer2.1.bn1.weight count_params:128\u001b[0m\n",
      "\u001b[34m[2024-11-20 22:22:09.136 algo-1:34 INFO hook.py:591] name:layer2.1.bn1.bias count_params:128\u001b[0m\n",
      "\u001b[34m[2024-11-20 22:22:09.137 algo-1:34 INFO hook.py:591] name:layer2.1.conv2.weight count_params:147456\u001b[0m\n",
      "\u001b[34m[2024-11-20 22:22:09.137 algo-1:34 INFO hook.py:591] name:layer2.1.bn2.weight count_params:128\u001b[0m\n",
      "\u001b[34m[2024-11-20 22:22:09.138 algo-1:34 INFO hook.py:591] name:layer2.1.bn2.bias count_params:128\u001b[0m\n",
      "\u001b[34m[2024-11-20 22:22:09.138 algo-1:34 INFO hook.py:591] name:layer2.1.conv3.weight count_params:65536\u001b[0m\n",
      "\u001b[34m[2024-11-20 22:22:09.139 algo-1:34 INFO hook.py:591] name:layer2.1.bn3.weight count_params:512\u001b[0m\n",
      "\u001b[34m[2024-11-20 22:22:09.139 algo-1:34 INFO hook.py:591] name:layer2.1.bn3.bias count_params:512\u001b[0m\n",
      "\u001b[34m[2024-11-20 22:22:09.140 algo-1:34 INFO hook.py:591] name:layer2.2.conv1.weight count_params:65536\u001b[0m\n",
      "\u001b[34m[2024-11-20 22:22:09.140 algo-1:34 INFO hook.py:591] name:layer2.2.bn1.weight count_params:128\u001b[0m\n",
      "\u001b[34m[2024-11-20 22:22:09.140 algo-1:34 INFO hook.py:591] name:layer2.2.bn1.bias count_params:128\u001b[0m\n",
      "\u001b[34m[2024-11-20 22:22:09.141 algo-1:34 INFO hook.py:591] name:layer2.2.conv2.weight count_params:147456\u001b[0m\n",
      "\u001b[34m[2024-11-20 22:22:09.141 algo-1:34 INFO hook.py:591] name:layer2.2.bn2.weight count_params:128\u001b[0m\n",
      "\u001b[34m[2024-11-20 22:22:09.142 algo-1:34 INFO hook.py:591] name:layer2.2.bn2.bias count_params:128\u001b[0m\n",
      "\u001b[34m[2024-11-20 22:22:09.142 algo-1:34 INFO hook.py:591] name:layer2.2.conv3.weight count_params:65536\u001b[0m\n",
      "\u001b[34m[2024-11-20 22:22:09.143 algo-1:34 INFO hook.py:591] name:layer2.2.bn3.weight count_params:512\u001b[0m\n",
      "\u001b[34m[2024-11-20 22:22:09.143 algo-1:34 INFO hook.py:591] name:layer2.2.bn3.bias count_params:512\u001b[0m\n",
      "\u001b[34m[2024-11-20 22:22:09.144 algo-1:34 INFO hook.py:591] name:layer2.3.conv1.weight count_params:65536\u001b[0m\n",
      "\u001b[34m[2024-11-20 22:22:09.144 algo-1:34 INFO hook.py:591] name:layer2.3.bn1.weight count_params:128\u001b[0m\n",
      "\u001b[34m[2024-11-20 22:22:09.145 algo-1:34 INFO hook.py:591] name:layer2.3.bn1.bias count_params:128\u001b[0m\n",
      "\u001b[34m[2024-11-20 22:22:09.145 algo-1:34 INFO hook.py:591] name:layer2.3.conv2.weight count_params:147456\u001b[0m\n",
      "\u001b[34m[2024-11-20 22:22:09.146 algo-1:34 INFO hook.py:591] name:layer2.3.bn2.weight count_params:128\u001b[0m\n",
      "\u001b[34m[2024-11-20 22:22:09.146 algo-1:34 INFO hook.py:591] name:layer2.3.bn2.bias count_params:128\u001b[0m\n",
      "\u001b[34m[2024-11-20 22:22:09.147 algo-1:34 INFO hook.py:591] name:layer2.3.conv3.weight count_params:65536\u001b[0m\n",
      "\u001b[34m[2024-11-20 22:22:09.147 algo-1:34 INFO hook.py:591] name:layer2.3.bn3.weight count_params:512\u001b[0m\n",
      "\u001b[34m[2024-11-20 22:22:09.147 algo-1:34 INFO hook.py:591] name:layer2.3.bn3.bias count_params:512\u001b[0m\n",
      "\u001b[34m[2024-11-20 22:22:09.148 algo-1:34 INFO hook.py:591] name:layer3.0.conv1.weight count_params:131072\u001b[0m\n",
      "\u001b[34m[2024-11-20 22:22:09.148 algo-1:34 INFO hook.py:591] name:layer3.0.bn1.weight count_params:256\u001b[0m\n",
      "\u001b[34m[2024-11-20 22:22:09.149 algo-1:34 INFO hook.py:591] name:layer3.0.bn1.bias count_params:256\u001b[0m\n",
      "\u001b[34m[2024-11-20 22:22:09.149 algo-1:34 INFO hook.py:591] name:layer3.0.conv2.weight count_params:589824\u001b[0m\n",
      "\u001b[34m[2024-11-20 22:22:09.150 algo-1:34 INFO hook.py:591] name:layer3.0.bn2.weight count_params:256\u001b[0m\n",
      "\u001b[34m[2024-11-20 22:22:09.150 algo-1:34 INFO hook.py:591] name:layer3.0.bn2.bias count_params:256\u001b[0m\n",
      "\u001b[34m[2024-11-20 22:22:09.151 algo-1:34 INFO hook.py:591] name:layer3.0.conv3.weight count_params:262144\u001b[0m\n",
      "\u001b[34m[2024-11-20 22:22:09.151 algo-1:34 INFO hook.py:591] name:layer3.0.bn3.weight count_params:1024\u001b[0m\n",
      "\u001b[34m[2024-11-20 22:22:09.152 algo-1:34 INFO hook.py:591] name:layer3.0.bn3.bias count_params:1024\u001b[0m\n",
      "\u001b[34m[2024-11-20 22:22:09.152 algo-1:34 INFO hook.py:591] name:layer3.0.downsample.0.weight count_params:524288\u001b[0m\n",
      "\u001b[34m[2024-11-20 22:22:09.153 algo-1:34 INFO hook.py:591] name:layer3.0.downsample.1.weight count_params:1024\u001b[0m\n",
      "\u001b[34m[2024-11-20 22:22:09.153 algo-1:34 INFO hook.py:591] name:layer3.0.downsample.1.bias count_params:1024\u001b[0m\n",
      "\u001b[34m[2024-11-20 22:22:09.154 algo-1:34 INFO hook.py:591] name:layer3.1.conv1.weight count_params:262144\u001b[0m\n",
      "\u001b[34m[2024-11-20 22:22:09.154 algo-1:34 INFO hook.py:591] name:layer3.1.bn1.weight count_params:256\u001b[0m\n",
      "\u001b[34m[2024-11-20 22:22:09.154 algo-1:34 INFO hook.py:591] name:layer3.1.bn1.bias count_params:256\u001b[0m\n",
      "\u001b[34m[2024-11-20 22:22:09.155 algo-1:34 INFO hook.py:591] name:layer3.1.conv2.weight count_params:589824\u001b[0m\n",
      "\u001b[34m[2024-11-20 22:22:09.155 algo-1:34 INFO hook.py:591] name:layer3.1.bn2.weight count_params:256\u001b[0m\n",
      "\u001b[34m[2024-11-20 22:22:09.156 algo-1:34 INFO hook.py:591] name:layer3.1.bn2.bias count_params:256\u001b[0m\n",
      "\u001b[34m[2024-11-20 22:22:09.156 algo-1:34 INFO hook.py:591] name:layer3.1.conv3.weight count_params:262144\u001b[0m\n",
      "\u001b[34m[2024-11-20 22:22:09.157 algo-1:34 INFO hook.py:591] name:layer3.1.bn3.weight count_params:1024\u001b[0m\n",
      "\u001b[34m[2024-11-20 22:22:09.157 algo-1:34 INFO hook.py:591] name:layer3.1.bn3.bias count_params:1024\u001b[0m\n",
      "\u001b[34m[2024-11-20 22:22:09.158 algo-1:34 INFO hook.py:591] name:layer3.2.conv1.weight count_params:262144\u001b[0m\n",
      "\u001b[34m[2024-11-20 22:22:09.158 algo-1:34 INFO hook.py:591] name:layer3.2.bn1.weight count_params:256\u001b[0m\n",
      "\u001b[34m[2024-11-20 22:22:09.158 algo-1:34 INFO hook.py:591] name:layer3.2.bn1.bias count_params:256\u001b[0m\n",
      "\u001b[34m[2024-11-20 22:22:09.159 algo-1:34 INFO hook.py:591] name:layer3.2.conv2.weight count_params:589824\u001b[0m\n",
      "\u001b[34m[2024-11-20 22:22:09.159 algo-1:34 INFO hook.py:591] name:layer3.2.bn2.weight count_params:256\u001b[0m\n",
      "\u001b[34m[2024-11-20 22:22:09.160 algo-1:34 INFO hook.py:591] name:layer3.2.bn2.bias count_params:256\u001b[0m\n",
      "\u001b[34m[2024-11-20 22:22:09.160 algo-1:34 INFO hook.py:591] name:layer3.2.conv3.weight count_params:262144\u001b[0m\n",
      "\u001b[34m[2024-11-20 22:22:09.161 algo-1:34 INFO hook.py:591] name:layer3.2.bn3.weight count_params:1024\u001b[0m\n",
      "\u001b[34m[2024-11-20 22:22:09.161 algo-1:34 INFO hook.py:591] name:layer3.2.bn3.bias count_params:1024\u001b[0m\n",
      "\u001b[34m[2024-11-20 22:22:09.162 algo-1:34 INFO hook.py:591] name:layer3.3.conv1.weight count_params:262144\u001b[0m\n",
      "\u001b[34m[2024-11-20 22:22:09.162 algo-1:34 INFO hook.py:591] name:layer3.3.bn1.weight count_params:256\u001b[0m\n",
      "\u001b[34m[2024-11-20 22:22:09.162 algo-1:34 INFO hook.py:591] name:layer3.3.bn1.bias count_params:256\u001b[0m\n",
      "\u001b[34m[2024-11-20 22:22:09.163 algo-1:34 INFO hook.py:591] name:layer3.3.conv2.weight count_params:589824\u001b[0m\n",
      "\u001b[34m[2024-11-20 22:22:09.163 algo-1:34 INFO hook.py:591] name:layer3.3.bn2.weight count_params:256\u001b[0m\n",
      "\u001b[34m[2024-11-20 22:22:09.164 algo-1:34 INFO hook.py:591] name:layer3.3.bn2.bias count_params:256\u001b[0m\n",
      "\u001b[34m[2024-11-20 22:22:09.164 algo-1:34 INFO hook.py:591] name:layer3.3.conv3.weight count_params:262144\u001b[0m\n",
      "\u001b[34m[2024-11-20 22:22:09.165 algo-1:34 INFO hook.py:591] name:layer3.3.bn3.weight count_params:1024\u001b[0m\n",
      "\u001b[34m[2024-11-20 22:22:09.165 algo-1:34 INFO hook.py:591] name:layer3.3.bn3.bias count_params:1024\u001b[0m\n",
      "\u001b[34m[2024-11-20 22:22:09.166 algo-1:34 INFO hook.py:591] name:layer3.4.conv1.weight count_params:262144\u001b[0m\n",
      "\u001b[34m[2024-11-20 22:22:09.166 algo-1:34 INFO hook.py:591] name:layer3.4.bn1.weight count_params:256\u001b[0m\n",
      "\u001b[34m[2024-11-20 22:22:09.166 algo-1:34 INFO hook.py:591] name:layer3.4.bn1.bias count_params:256\u001b[0m\n",
      "\u001b[34m[2024-11-20 22:22:09.167 algo-1:34 INFO hook.py:591] name:layer3.4.conv2.weight count_params:589824\u001b[0m\n",
      "\u001b[34m[2024-11-20 22:22:09.167 algo-1:34 INFO hook.py:591] name:layer3.4.bn2.weight count_params:256\u001b[0m\n",
      "\u001b[34m[2024-11-20 22:22:09.168 algo-1:34 INFO hook.py:591] name:layer3.4.bn2.bias count_params:256\u001b[0m\n",
      "\u001b[34m[2024-11-20 22:22:09.168 algo-1:34 INFO hook.py:591] name:layer3.4.conv3.weight count_params:262144\u001b[0m\n",
      "\u001b[34m[2024-11-20 22:22:09.169 algo-1:34 INFO hook.py:591] name:layer3.4.bn3.weight count_params:1024\u001b[0m\n",
      "\u001b[34m[2024-11-20 22:22:09.169 algo-1:34 INFO hook.py:591] name:layer3.4.bn3.bias count_params:1024\u001b[0m\n",
      "\u001b[34m[2024-11-20 22:22:09.170 algo-1:34 INFO hook.py:591] name:layer3.5.conv1.weight count_params:262144\u001b[0m\n",
      "\u001b[34m[2024-11-20 22:22:09.170 algo-1:34 INFO hook.py:591] name:layer3.5.bn1.weight count_params:256\u001b[0m\n",
      "\u001b[34m[2024-11-20 22:22:09.171 algo-1:34 INFO hook.py:591] name:layer3.5.bn1.bias count_params:256\u001b[0m\n",
      "\u001b[34m[2024-11-20 22:22:09.171 algo-1:34 INFO hook.py:591] name:layer3.5.conv2.weight count_params:589824\u001b[0m\n",
      "\u001b[34m[2024-11-20 22:22:09.171 algo-1:34 INFO hook.py:591] name:layer3.5.bn2.weight count_params:256\u001b[0m\n",
      "\u001b[34m[2024-11-20 22:22:09.172 algo-1:34 INFO hook.py:591] name:layer3.5.bn2.bias count_params:256\u001b[0m\n",
      "\u001b[34m[2024-11-20 22:22:09.172 algo-1:34 INFO hook.py:591] name:layer3.5.conv3.weight count_params:262144\u001b[0m\n",
      "\u001b[34m[2024-11-20 22:22:09.173 algo-1:34 INFO hook.py:591] name:layer3.5.bn3.weight count_params:1024\u001b[0m\n",
      "\u001b[34m[2024-11-20 22:22:09.173 algo-1:34 INFO hook.py:591] name:layer3.5.bn3.bias count_params:1024\u001b[0m\n",
      "\u001b[34m[2024-11-20 22:22:09.174 algo-1:34 INFO hook.py:591] name:layer4.0.conv1.weight count_params:524288\u001b[0m\n",
      "\u001b[34m[2024-11-20 22:22:09.174 algo-1:34 INFO hook.py:591] name:layer4.0.bn1.weight count_params:512\u001b[0m\n",
      "\u001b[34m[2024-11-20 22:22:09.175 algo-1:34 INFO hook.py:591] name:layer4.0.bn1.bias count_params:512\u001b[0m\n",
      "\u001b[34m[2024-11-20 22:22:09.175 algo-1:34 INFO hook.py:591] name:layer4.0.conv2.weight count_params:2359296\u001b[0m\n",
      "\u001b[34m[2024-11-20 22:22:09.176 algo-1:34 INFO hook.py:591] name:layer4.0.bn2.weight count_params:512\u001b[0m\n",
      "\u001b[34m[2024-11-20 22:22:09.176 algo-1:34 INFO hook.py:591] name:layer4.0.bn2.bias count_params:512\u001b[0m\n",
      "\u001b[34m[2024-11-20 22:22:09.176 algo-1:34 INFO hook.py:591] name:layer4.0.conv3.weight count_params:1048576\u001b[0m\n",
      "\u001b[34m[2024-11-20 22:22:09.177 algo-1:34 INFO hook.py:591] name:layer4.0.bn3.weight count_params:2048\u001b[0m\n",
      "\u001b[34m[2024-11-20 22:22:09.177 algo-1:34 INFO hook.py:591] name:layer4.0.bn3.bias count_params:2048\u001b[0m\n",
      "\u001b[34m[2024-11-20 22:22:09.178 algo-1:34 INFO hook.py:591] name:layer4.0.downsample.0.weight count_params:2097152\u001b[0m\n",
      "\u001b[34m[2024-11-20 22:22:09.178 algo-1:34 INFO hook.py:591] name:layer4.0.downsample.1.weight count_params:2048\u001b[0m\n",
      "\u001b[34m[2024-11-20 22:22:09.179 algo-1:34 INFO hook.py:591] name:layer4.0.downsample.1.bias count_params:2048\u001b[0m\n",
      "\u001b[34m[2024-11-20 22:22:09.179 algo-1:34 INFO hook.py:591] name:layer4.1.conv1.weight count_params:1048576\u001b[0m\n",
      "\u001b[34m[2024-11-20 22:22:09.180 algo-1:34 INFO hook.py:591] name:layer4.1.bn1.weight count_params:512\u001b[0m\n",
      "\u001b[34m[2024-11-20 22:22:09.180 algo-1:34 INFO hook.py:591] name:layer4.1.bn1.bias count_params:512\u001b[0m\n",
      "\u001b[34m[2024-11-20 22:22:09.181 algo-1:34 INFO hook.py:591] name:layer4.1.conv2.weight count_params:2359296\u001b[0m\n",
      "\u001b[34m[2024-11-20 22:22:09.181 algo-1:34 INFO hook.py:591] name:layer4.1.bn2.weight count_params:512\u001b[0m\n",
      "\u001b[34m[2024-11-20 22:22:09.181 algo-1:34 INFO hook.py:591] name:layer4.1.bn2.bias count_params:512\u001b[0m\n",
      "\u001b[34m[2024-11-20 22:22:09.182 algo-1:34 INFO hook.py:591] name:layer4.1.conv3.weight count_params:1048576\u001b[0m\n",
      "\u001b[34m[2024-11-20 22:22:09.182 algo-1:34 INFO hook.py:591] name:layer4.1.bn3.weight count_params:2048\u001b[0m\n",
      "\u001b[34m[2024-11-20 22:22:09.183 algo-1:34 INFO hook.py:591] name:layer4.1.bn3.bias count_params:2048\u001b[0m\n",
      "\u001b[34m[2024-11-20 22:22:09.183 algo-1:34 INFO hook.py:591] name:layer4.2.conv1.weight count_params:1048576\u001b[0m\n",
      "\u001b[34m[2024-11-20 22:22:09.184 algo-1:34 INFO hook.py:591] name:layer4.2.bn1.weight count_params:512\u001b[0m\n",
      "\u001b[34m[2024-11-20 22:22:09.184 algo-1:34 INFO hook.py:591] name:layer4.2.bn1.bias count_params:512\u001b[0m\n",
      "\u001b[34m[2024-11-20 22:22:09.185 algo-1:34 INFO hook.py:591] name:layer4.2.conv2.weight count_params:2359296\u001b[0m\n",
      "\u001b[34m[2024-11-20 22:22:09.185 algo-1:34 INFO hook.py:591] name:layer4.2.bn2.weight count_params:512\u001b[0m\n",
      "\u001b[34m[2024-11-20 22:22:09.186 algo-1:34 INFO hook.py:591] name:layer4.2.bn2.bias count_params:512\u001b[0m\n",
      "\u001b[34m[2024-11-20 22:22:09.186 algo-1:34 INFO hook.py:591] name:layer4.2.conv3.weight count_params:1048576\u001b[0m\n",
      "\u001b[34m[2024-11-20 22:22:09.187 algo-1:34 INFO hook.py:591] name:layer4.2.bn3.weight count_params:2048\u001b[0m\n",
      "\u001b[34m[2024-11-20 22:22:09.187 algo-1:34 INFO hook.py:591] name:layer4.2.bn3.bias count_params:2048\u001b[0m\n",
      "\u001b[34m[2024-11-20 22:22:09.188 algo-1:34 INFO hook.py:591] name:fc.0.weight count_params:262144\u001b[0m\n",
      "\u001b[34m[2024-11-20 22:22:09.188 algo-1:34 INFO hook.py:591] name:fc.0.bias count_params:128\u001b[0m\n",
      "\u001b[34m[2024-11-20 22:22:09.189 algo-1:34 INFO hook.py:591] name:fc.2.weight count_params:17024\u001b[0m\n",
      "\u001b[34m[2024-11-20 22:22:09.189 algo-1:34 INFO hook.py:591] name:fc.2.bias count_params:133\u001b[0m\n",
      "\u001b[34m[2024-11-20 22:22:09.189 algo-1:34 INFO hook.py:593] Total Trainable Params: 23787461\u001b[0m\n",
      "\u001b[34m[2024-11-20 22:22:12.367 algo-1:34 INFO hook.py:424] Monitoring the collections: losses, gradients, relu_input\u001b[0m\n",
      "\u001b[34m[2024-11-20 22:22:12.369 algo-1:34 INFO python_profiler.py:182] Dumping cProfile stats to /opt/ml/output/profiler/framework/pytorch/cprofile/34-algo-1/prestepzero-*-start-1732141326621307.8_train-0-stepstart-1732141332369052.2/python_stats.\u001b[0m\n",
      "\u001b[34m[2024-11-20 22:22:12.383 algo-1:34 WARNING hook.py:410] The detailed profiling using autograd profiler is not supported for torch version 1.9.1\u001b[0m\n",
      "\u001b[34m[2024-11-20 22:22:12.391 algo-1:34 INFO hook.py:488] Hook is writing from the hook with pid: 34\u001b[0m\n",
      "\u001b[34m[2024-11-20 22:22:22.610 algo-1:34 INFO python_profiler.py:182] Dumping cProfile stats to /opt/ml/output/profiler/framework/pytorch/cprofile/34-algo-1/train-0-stepstart-1732141332382336.2_train-0-forwardpassend-1732141342610244.8/python_stats.\u001b[0m\n",
      "\u001b[34m[2024-11-20 22:22:24.284 algo-1:34 INFO python_profiler.py:182] Dumping cProfile stats to /opt/ml/output/profiler/framework/pytorch/cprofile/34-algo-1/train-0-forwardpassend-1732141342613945.2_train-1-stepstart-1732141344283325.5/python_stats.\u001b[0m\n",
      "\u001b[34m[2024-11-20 22:22:24.293 algo-1:34 WARNING hook.py:410] The detailed profiling using autograd profiler is not supported for torch version 1.9.1\u001b[0m\n",
      "\u001b[34m[2024-11-20 22:22:24.365 algo-1:34 INFO python_profiler.py:182] Dumping cProfile stats to /opt/ml/output/profiler/framework/pytorch/cprofile/34-algo-1/train-1-stepstart-1732141344293197.5_train-1-forwardpassend-1732141344364730.8/python_stats.\u001b[0m\n",
      "\u001b[34m[2024-11-20 22:22:25.551 algo-1:34 INFO python_profiler.py:182] Dumping cProfile stats to /opt/ml/output/profiler/framework/pytorch/cprofile/34-algo-1/train-1-forwardpassend-1732141344367494.0_train-2-stepstart-1732141345551004.0/python_stats.\u001b[0m\n",
      "\u001b[34m[2024-11-20 22:22:25.555 algo-1:34 WARNING hook.py:410] The detailed profiling using autograd profiler is not supported for torch version 1.9.1\u001b[0m\n",
      "\u001b[34m[2024-11-20 22:22:25.623 algo-1:34 INFO python_profiler.py:182] Dumping cProfile stats to /opt/ml/output/profiler/framework/pytorch/cprofile/34-algo-1/train-2-stepstart-1732141345555368.2_train-2-forwardpassend-1732141345623345.8/python_stats.\u001b[0m\n",
      "\u001b[34m[2024-11-20 22:22:26.811 algo-1:34 INFO python_profiler.py:182] Dumping cProfile stats to /opt/ml/output/profiler/framework/pytorch/cprofile/34-algo-1/train-2-forwardpassend-1732141345625615.5_train-3-stepstart-1732141346810678.0/python_stats.\u001b[0m\n",
      "\u001b[34m[2024-11-20 22:22:26.895 algo-1:34 INFO python_profiler.py:182] Dumping cProfile stats to /opt/ml/output/profiler/framework/pytorch/cprofile/34-algo-1/train-3-stepstart-1732141346817824.2_train-3-forwardpassend-1732141346894611.5/python_stats.\u001b[0m\n",
      "\u001b[34m[2024-11-20 22:22:28.174 algo-1:34 INFO python_profiler.py:182] Dumping cProfile stats to /opt/ml/output/profiler/framework/pytorch/cprofile/34-algo-1/train-3-forwardpassend-1732141346896995.2_train-4-stepstart-1732141348173982.8/python_stats.\u001b[0m\n",
      "\u001b[34m[2024-11-20 22:22:28.259 algo-1:34 INFO python_profiler.py:182] Dumping cProfile stats to /opt/ml/output/profiler/framework/pytorch/cprofile/34-algo-1/train-4-stepstart-1732141348178738.0_train-4-forwardpassend-1732141348259026.8/python_stats.\u001b[0m\n",
      "\u001b[34m[2024-11-20 22:22:29.430 algo-1:34 INFO python_profiler.py:182] Dumping cProfile stats to /opt/ml/output/profiler/framework/pytorch/cprofile/34-algo-1/train-4-forwardpassend-1732141348261272.8_train-5-stepstart-1732141349428692.8/python_stats.\u001b[0m\n",
      "\u001b[34m[2024-11-20 22:22:29.520 algo-1:34 INFO python_profiler.py:182] Dumping cProfile stats to /opt/ml/output/profiler/framework/pytorch/cprofile/34-algo-1/train-5-stepstart-1732141349434122.0_train-5-forwardpassend-1732141349520037.5/python_stats.\u001b[0m\n",
      "\u001b[34m[2024-11-20 22:22:30.678 algo-1:34 INFO python_profiler.py:182] Dumping cProfile stats to /opt/ml/output/profiler/framework/pytorch/cprofile/34-algo-1/train-5-forwardpassend-1732141349522162.8_train-6-stepstart-1732141350677106.2/python_stats.\u001b[0m\n",
      "\u001b[34m[2024-11-20 22:22:30.749 algo-1:34 INFO python_profiler.py:182] Dumping cProfile stats to /opt/ml/output/profiler/framework/pytorch/cprofile/34-algo-1/train-6-stepstart-1732141350681342.0_train-6-forwardpassend-1732141350748786.0/python_stats.\u001b[0m\n",
      "\u001b[34m[2024-11-20 22:22:31.932 algo-1:34 INFO python_profiler.py:182] Dumping cProfile stats to /opt/ml/output/profiler/framework/pytorch/cprofile/34-algo-1/train-6-forwardpassend-1732141350750827.0_train-7-stepstart-1732141351931771.0/python_stats.\u001b[0m\n",
      "\u001b[34m[2024-11-20 22:22:32.002 algo-1:34 INFO python_profiler.py:182] Dumping cProfile stats to /opt/ml/output/profiler/framework/pytorch/cprofile/34-algo-1/train-7-stepstart-1732141351936952.0_train-7-forwardpassend-1732141352001772.0/python_stats.\u001b[0m\n",
      "\u001b[34m[2024-11-20 22:22:33.192 algo-1:34 INFO python_profiler.py:182] Dumping cProfile stats to /opt/ml/output/profiler/framework/pytorch/cprofile/34-algo-1/train-7-forwardpassend-1732141352003919.8_train-8-stepstart-1732141353191269.8/python_stats.\u001b[0m\n",
      "\u001b[34m[2024-11-20 22:22:33.264 algo-1:34 INFO python_profiler.py:182] Dumping cProfile stats to /opt/ml/output/profiler/framework/pytorch/cprofile/34-algo-1/train-8-stepstart-1732141353196180.0_train-8-forwardpassend-1732141353263405.0/python_stats.\u001b[0m\n",
      "\u001b[34m[2024-11-20 22:22:34.447 algo-1:34 INFO python_profiler.py:182] Dumping cProfile stats to /opt/ml/output/profiler/framework/pytorch/cprofile/34-algo-1/train-8-forwardpassend-1732141353266643.8_train-9-stepstart-1732141354446210.8/python_stats.\u001b[0m\n",
      "\u001b[34m[2024-11-20 22:22:34.525 algo-1:34 INFO python_profiler.py:182] Dumping cProfile stats to /opt/ml/output/profiler/framework/pytorch/cprofile/34-algo-1/train-9-stepstart-1732141354451409.2_train-9-forwardpassend-1732141354525163.2/python_stats.\u001b[0m\n",
      "\u001b[34m[2024-11-20 22:22:35.728 algo-1:34 INFO python_profiler.py:182] Dumping cProfile stats to /opt/ml/output/profiler/framework/pytorch/cprofile/34-algo-1/train-9-forwardpassend-1732141354527254.2_train-10-stepstart-1732141355701942.2/python_stats.\u001b[0m\n",
      "\u001b[34mTrain Epoch: 1 [6400/6679 (95%)] Loss: 1.838405\u001b[0m\n",
      "\u001b[34mINFO:__main__:Train Epoch: 1 [6400/6679 (95%)] Loss: 1.838405\u001b[0m\n",
      "\u001b[34mTrain Epoch: 2 [6400/6679 (95%)] Loss: 0.746653\u001b[0m\n",
      "\u001b[34mINFO:__main__:Train Epoch: 2 [6400/6679 (95%)] Loss: 0.746653\u001b[0m\n",
      "\u001b[34mTest Average Loss: 0.0013162468721766671\u001b[0m\n",
      "\u001b[34mTest Average Accuracy: 0.05149700598802395\u001b[0m\n",
      "\u001b[34mINFO:__main__:Test Average Loss: 0.0013162468721766671\u001b[0m\n",
      "\u001b[34mINFO:__main__:Test Average Accuracy: 0.05149700598802395\u001b[0m\n",
      "\u001b[34mTest Average Loss: 0.0023491390450985847\u001b[0m\n",
      "\u001b[34mTest Average Accuracy: 0.11377245508982035\u001b[0m\n",
      "\u001b[34mINFO:__main__:Test Average Loss: 0.0023491390450985847\u001b[0m\n",
      "\u001b[34mINFO:__main__:Test Average Accuracy: 0.11377245508982035\u001b[0m\n",
      "\u001b[34mTest Average Loss: 0.0035875715181499183\u001b[0m\n",
      "\u001b[34mTest Average Accuracy: 0.17125748502994012\u001b[0m\n",
      "\u001b[34mINFO:__main__:Test Average Loss: 0.0035875715181499183\u001b[0m\n",
      "\u001b[34mINFO:__main__:Test Average Accuracy: 0.17125748502994012\u001b[0m\n",
      "\u001b[34mTest Average Loss: 0.0048113963561143705\u001b[0m\n",
      "\u001b[34mTest Average Accuracy: 0.2275449101796407\u001b[0m\n",
      "\u001b[34mINFO:__main__:Test Average Loss: 0.0048113963561143705\u001b[0m\n",
      "\u001b[34mINFO:__main__:Test Average Accuracy: 0.2275449101796407\u001b[0m\n",
      "\u001b[34mTest Average Loss: 0.006801083202133636\u001b[0m\n",
      "\u001b[34mTest Average Accuracy: 0.26706586826347306\u001b[0m\n",
      "\u001b[34mINFO:__main__:Test Average Loss: 0.006801083202133636\u001b[0m\n",
      "\u001b[34mINFO:__main__:Test Average Accuracy: 0.26706586826347306\u001b[0m\n",
      "\u001b[34mTest Average Loss: 0.008239329289533422\u001b[0m\n",
      "\u001b[34mTest Average Accuracy: 0.31736526946107785\u001b[0m\n",
      "\u001b[34mINFO:__main__:Test Average Loss: 0.008239329289533422\u001b[0m\n",
      "\u001b[34mINFO:__main__:Test Average Accuracy: 0.31736526946107785\u001b[0m\n",
      "\u001b[34mTest Average Loss: 0.009819283671007898\u001b[0m\n",
      "\u001b[34mTest Average Accuracy: 0.37005988023952097\u001b[0m\n",
      "\u001b[34mINFO:__main__:Test Average Loss: 0.009819283671007898\u001b[0m\n",
      "\u001b[34mINFO:__main__:Test Average Accuracy: 0.37005988023952097\u001b[0m\n",
      "\u001b[34mTest Average Loss: 0.011717738862523062\u001b[0m\n",
      "\u001b[34mTest Average Accuracy: 0.4095808383233533\u001b[0m\n",
      "\u001b[34mINFO:__main__:Test Average Loss: 0.011717738862523062\u001b[0m\n",
      "\u001b[34mINFO:__main__:Test Average Accuracy: 0.4095808383233533\u001b[0m\n",
      "\u001b[34mTest Average Loss: 0.013456809806252667\u001b[0m\n",
      "\u001b[34mINFO:__main__:Test Average Loss: 0.013456809806252667\u001b[0m\n",
      "\u001b[34mTest Average Accuracy: 0.4562874251497006\u001b[0m\n",
      "\u001b[34mINFO:__main__:Test Average Accuracy: 0.4562874251497006\u001b[0m\n",
      "\u001b[34mTest Average Loss: 0.01464057032933492\u001b[0m\n",
      "\u001b[34mTest Average Accuracy: 0.5161676646706587\u001b[0m\n",
      "\u001b[34mINFO:__main__:Test Average Loss: 0.01464057032933492\u001b[0m\n",
      "\u001b[34mINFO:__main__:Test Average Accuracy: 0.5161676646706587\u001b[0m\n",
      "\u001b[34mTest Average Loss: 0.016504078639481595\u001b[0m\n",
      "\u001b[34mINFO:__main__:Test Average Loss: 0.016504078639481595\u001b[0m\n",
      "\u001b[34mINFO:__main__:Test Average Accuracy: 0.555688622754491\u001b[0m\n",
      "\u001b[34mTest Average Accuracy: 0.555688622754491\u001b[0m\n",
      "\u001b[34mTest Average Loss: 0.018353900581062912\u001b[0m\n",
      "\u001b[34mINFO:__main__:Test Average Loss: 0.018353900581062912\u001b[0m\n",
      "\u001b[34mTest Average Accuracy: 0.6023952095808384\u001b[0m\n",
      "\u001b[34mINFO:__main__:Test Average Accuracy: 0.6023952095808384\u001b[0m\n",
      "\u001b[34mTest Average Loss: 0.0203184865192025\u001b[0m\n",
      "\u001b[34mTest Average Accuracy: 0.6419161676646706\u001b[0m\n",
      "\u001b[34mINFO:__main__:Test Average Loss: 0.0203184865192025\u001b[0m\n",
      "\u001b[34mINFO:__main__:Test Average Accuracy: 0.6419161676646706\u001b[0m\n",
      "\u001b[34mTest Average Loss: 0.02134396615856422\u001b[0m\n",
      "\u001b[34mTest Average Accuracy: 0.6455089820359281\u001b[0m\n",
      "\u001b[34mINFO:__main__:Test Average Loss: 0.02134396615856422\u001b[0m\n",
      "\u001b[34mINFO:__main__:Test Average Accuracy: 0.6455089820359281\u001b[0m\n",
      "\u001b[34m2024-11-20 22:27:04,805 sagemaker-training-toolkit INFO     Waiting for the process to finish and give a return code.\u001b[0m\n",
      "\u001b[34m2024-11-20 22:27:04,805 sagemaker-training-toolkit INFO     Done waiting for a return code. Received 0 from exiting process.\u001b[0m\n",
      "\u001b[34m2024-11-20 22:27:04,806 sagemaker-training-toolkit INFO     Reporting training SUCCESS\u001b[0m\n",
      "\n",
      "2024-11-20 22:27:57 Uploading - Uploading generated training model\n",
      "2024-11-20 22:28:25 Completed - Training job completed\n",
      "Training seconds: 760\n",
      "Billable seconds: 760\n"
     ]
    }
   ],
   "source": [
    "estimator.fit({'train': data_path}, wait=True)"
   ]
  },
  {
   "cell_type": "code",
   "execution_count": 22,
   "metadata": {},
   "outputs": [],
   "source": [
    "# # Get training job first logs \n",
    "# client = boto3.client('logs')\n",
    "# response = client.get_log_events(\n",
    "#     logGroupName='/aws/sagemaker/TrainingJobs',\n",
    "#     logStreamName='debugger-dog-breeds-job-2024-11-20-18-45-57-303/algo-1-1732128431',\n",
    "# #    startTime=int((datetime.today() - timedelta(hours=5)).timestamp()),\n",
    "# #    endTime=int(datetime.now().timestamp()),\n",
    "# #    nextToken='string',\n",
    "#     limit=115,\n",
    "#     startFromHead=True,\n",
    "# )"
   ]
  },
  {
   "cell_type": "code",
   "execution_count": 24,
   "metadata": {
    "scrolled": true
   },
   "outputs": [],
   "source": [
    "# log_events = response['events']\n",
    "# for each_event in log_events:\n",
    "#     print(each_event['message'])"
   ]
  },
  {
   "cell_type": "code",
   "execution_count": 25,
   "metadata": {},
   "outputs": [
    {
     "name": "stdout",
     "output_type": "stream",
     "text": [
      "job name : debugger-dog-breeds-job-2024-11-20-22-14-09-147\n",
      "\n",
      "latest_job_debugger_artifacts_path : s3://sagemaker-us-east-1-339840815706/debugger-dog-breeds-job-2024-11-20-22-14-09-147/debug-output\n",
      "\n",
      "rule_output_path : s3://sagemaker-us-east-1-339840815706/debugger-dog-breeds-job-2024-11-20-22-14-09-147/rule-output\n",
      "\n"
     ]
    }
   ],
   "source": [
    "# Print training job information:\n",
    "print(\"job name : {}\\n\".format(estimator.latest_training_job.job_name))\n",
    "print(\"latest_job_debugger_artifacts_path : {}\\n\".format(estimator.latest_job_debugger_artifacts_path()))\n",
    "print(\"rule_output_path : {}\\n\".format(estimator.output_path + estimator.latest_training_job.job_name + \"/rule-output\"))"
   ]
  },
  {
   "cell_type": "code",
   "execution_count": 26,
   "metadata": {},
   "outputs": [
    {
     "name": "stdout",
     "output_type": "stream",
     "text": [
      "[2024-11-20 22:29:19.998 default:126 INFO utils.py:28] RULE_JOB_STOP_SIGNAL_FILENAME: None\n",
      "[2024-11-20 22:29:20.016 default:126 INFO s3_trial.py:42] Loading trial debug-output at path s3://sagemaker-us-east-1-339840815706/debugger-dog-breeds-job-2024-11-20-22-14-09-147/debug-output\n"
     ]
    }
   ],
   "source": [
    "# TODO: Plot a debugging output.\n",
    "from smdebug.trials import create_trial\n",
    "from smdebug.core.modes import ModeKeys\n",
    "\n",
    "trial = create_trial(estimator.latest_job_debugger_artifacts_path())"
   ]
  },
  {
   "cell_type": "code",
   "execution_count": null,
   "metadata": {
    "scrolled": true
   },
   "outputs": [],
   "source": [
    "#trial.tensor_names()"
   ]
  },
  {
   "cell_type": "code",
   "execution_count": null,
   "metadata": {
    "scrolled": true
   },
   "outputs": [],
   "source": [
    "#trial.tensor('cross_entropy_loss_output_0').values()"
   ]
  },
  {
   "cell_type": "code",
   "execution_count": 28,
   "metadata": {},
   "outputs": [],
   "source": [
    "def get_data(trial, tname, mode):\n",
    "    tensor = trial.tensor(tname)\n",
    "    steps = tensor.steps(mode=mode)\n",
    "    vals = []\n",
    "    for s in steps:\n",
    "        vals.append(tensor.value(s, mode=mode))\n",
    "    return steps, vals\n",
    "\n",
    "import matplotlib.pyplot as plt\n",
    "from mpl_toolkits.axes_grid1 import host_subplot"
   ]
  },
  {
   "cell_type": "code",
   "execution_count": 29,
   "metadata": {},
   "outputs": [
    {
     "name": "stdout",
     "output_type": "stream",
     "text": [
      "[2024-11-20 22:29:39.759 default:126 INFO trial.py:197] Training has ended, will refresh one final time in 1 sec.\n",
      "[2024-11-20 22:29:40.784 default:126 INFO trial.py:210] Loaded all steps\n",
      "loaded TRAIN data\n",
      "loaded EVAL data\n",
      "completed TRAIN plot\n",
      "completed EVAL plot\n"
     ]
    },
    {
     "data": {
      "image/png": "[encoded data removed]",
      "text/plain": [
       "<Figure size 1000x700 with 1 Axes>"
      ]
     },
     "metadata": {},
     "output_type": "display_data"
    }
   ],
   "source": [
    "def plot_tensor(trial, tensor_name):\n",
    "\n",
    "    steps_train, vals_train = get_data(trial, tensor_name, mode=ModeKeys.TRAIN)\n",
    "    print(\"loaded TRAIN data\")\n",
    "    steps_eval, vals_eval = get_data(trial, tensor_name, mode=ModeKeys.EVAL)\n",
    "    print(\"loaded EVAL data\")\n",
    "\n",
    "    fig = plt.figure(figsize=(10, 7))\n",
    "    host = host_subplot(111)\n",
    "\n",
    "    par = host.twiny()\n",
    "\n",
    "    host.set_xlabel(\"Steps (TRAIN)\")\n",
    "    par.set_xlabel(\"Steps (EVAL)\")\n",
    "    host.set_ylabel(tensor_name)\n",
    "\n",
    "    (p1,) = host.plot(steps_train, vals_train, label=tensor_name)\n",
    "    print(\"completed TRAIN plot\")\n",
    "    (p2,) = par.plot(steps_eval, vals_eval, label=\"val_\" + tensor_name)\n",
    "    print(\"completed EVAL plot\")\n",
    "    leg = plt.legend()\n",
    "\n",
    "    host.xaxis.get_label().set_color(p1.get_color())\n",
    "    leg.texts[0].set_color(p1.get_color())\n",
    "\n",
    "    par.xaxis.get_label().set_color(p2.get_color())\n",
    "    leg.texts[1].set_color(p2.get_color())\n",
    "\n",
    "    plt.ylabel(tensor_name)\n",
    "\n",
    "    plt.show()\n",
    "\n",
    "plot_tensor(trial, \"cross_entropy_loss_output_0\")"
   ]
  },
  {
   "cell_type": "markdown",
   "metadata": {},
   "source": [
    "**TODO**: Is there some anomalous behaviour in your debugging output? If so, what is the error and how will you fix it?  \n",
    "**TODO**: If not, suppose there was an error. What would that error look like and how would you have fixed it?"
   ]
  },
  {
   "cell_type": "code",
   "execution_count": null,
   "metadata": {},
   "outputs": [],
   "source": [
    "# TODO: Display the profiler output"
   ]
  },
  {
   "cell_type": "markdown",
   "metadata": {},
   "source": [
    "## Model Deploying"
   ]
  },
  {
   "cell_type": "code",
   "execution_count": 30,
   "metadata": {},
   "outputs": [
    {
     "data": {
      "text/plain": [
       "'s3://sagemaker-us-east-1-339840815706/debugger-dog-breeds-job-2024-11-20-22-14-09-147/output/model.tar.gz'"
      ]
     },
     "execution_count": 30,
     "metadata": {},
     "output_type": "execute_result"
    }
   ],
   "source": [
    "model_location = estimator.model_data\n",
    "model_location"
   ]
  },
  {
   "cell_type": "code",
   "execution_count": 31,
   "metadata": {},
   "outputs": [],
   "source": [
    "from sagemaker.predictor import Predictor\n",
    "from sagemaker.pytorch import PyTorchModel"
   ]
  },
  {
   "cell_type": "code",
   "execution_count": 37,
   "metadata": {},
   "outputs": [],
   "source": [
    "jpeg_serializer = sagemaker.serializers.IdentitySerializer(\"image/jpeg\")\n",
    "json_deserializer = sagemaker.deserializers.JSONDeserializer()\n",
    "\n",
    "\n",
    "class ImagePredictor(Predictor):\n",
    "    def __init__(self, endpoint_name, sagemaker_session):\n",
    "        super(ImagePredictor, self).__init__(\n",
    "            endpoint_name,\n",
    "            sagemaker_session=sagemaker_session,\n",
    "            serializer=jpeg_serializer,\n",
    "            deserializer=json_deserializer,\n",
    "        )"
   ]
  },
  {
   "cell_type": "code",
   "execution_count": 42,
   "metadata": {},
   "outputs": [],
   "source": [
    "model_location=estimator.model_data\n",
    "\n",
    "pytorch_inference_model = PyTorchModel(\n",
    "            entry_point=\"inference.py\",\n",
    "            role=role,\n",
    "            model_data=model_location,\n",
    "            framework_version=\"1.9\",\n",
    "            py_version=\"py38\",\n",
    "            predictor_cls=ImagePredictor,\n",
    ")"
   ]
  },
  {
   "cell_type": "code",
   "execution_count": 43,
   "metadata": {},
   "outputs": [
    {
     "name": "stderr",
     "output_type": "stream",
     "text": [
      "INFO:sagemaker:Repacking model artifact (s3://sagemaker-us-east-1-339840815706/debugger-dog-breeds-job-2024-11-20-22-14-09-147/output/model.tar.gz), script artifact (None), and dependencies ([]) into single tar.gz file located at s3://sagemaker-us-east-1-339840815706/pytorch-inference-2024-11-20-22-55-22-639/model.tar.gz. This may take some time depending on model size...\n",
      "INFO:sagemaker:Creating model with name: pytorch-inference-2024-11-20-22-55-30-786\n",
      "INFO:sagemaker:Creating endpoint-config with name pytorch-inference-2024-11-20-22-55-31-507\n",
      "INFO:sagemaker:Creating endpoint with name pytorch-inference-2024-11-20-22-55-31-507\n"
     ]
    },
    {
     "name": "stdout",
     "output_type": "stream",
     "text": [
      "----------------!"
     ]
    }
   ],
   "source": [
    "# TODO: Deploy your model to an endpoint\n",
    "\n",
    "predictor = pytorch_inference_model.deploy(\n",
    "    initial_instance_count=1, \n",
    "    instance_type='ml.t2.medium',\n",
    ")"
   ]
  },
  {
   "cell_type": "code",
   "execution_count": 44,
   "metadata": {},
   "outputs": [],
   "source": [
    "# TODO: Run an prediction on the endpoint\n",
    "test_dir = './data/test/'\n",
    "test_images = ['Maltese_06716.jpg', 'Maltese_06718.jpg', 'Maltese_06728.jpg', 'Maltese_06754.jpg', 'Maltese_06757.jpg', 'Maltese_06766.jpg']\n",
    "test_image = test_images[0]\n",
    "image = os.path.join(test_dir, test_image) "
   ]
  },
  {
   "cell_type": "code",
   "execution_count": 45,
   "metadata": {},
   "outputs": [
    {
     "ename": "ModelError",
     "evalue": "An error occurred (ModelError) when calling the InvokeEndpoint operation: Received server error (0) from primary with message \"Your invocation timed out while waiting for a response from container primary. Review the latency metrics for each container in Amazon CloudWatch, resolve the issue, and try again.\". See https://us-east-1.console.aws.amazon.com/cloudwatch/home?region=us-east-1#logEventViewer:group=/aws/sagemaker/Endpoints/pytorch-inference-2024-11-20-22-55-31-507 in account 339840815706 for more information.",
     "output_type": "error",
     "traceback": [
      "\u001b[0;31m---------------------------------------------------------------------------\u001b[0m",
      "\u001b[0;31mModelError\u001b[0m                                Traceback (most recent call last)",
      "Cell \u001b[0;32mIn[45], line 1\u001b[0m\n\u001b[0;32m----> 1\u001b[0m response \u001b[38;5;241m=\u001b[39m \u001b[43mpredictor\u001b[49m\u001b[38;5;241;43m.\u001b[39;49m\u001b[43mpredict\u001b[49m\u001b[43m(\u001b[49m\u001b[43mimage\u001b[49m\u001b[43m)\u001b[49m\n",
      "File \u001b[0;32m/opt/conda/lib/python3.11/site-packages/sagemaker/base_predictor.py:212\u001b[0m, in \u001b[0;36mPredictor.predict\u001b[0;34m(self, data, initial_args, target_model, target_variant, inference_id, custom_attributes, component_name)\u001b[0m\n\u001b[1;32m    209\u001b[0m \u001b[38;5;28;01mif\u001b[39;00m inference_component_name:\n\u001b[1;32m    210\u001b[0m     request_args[\u001b[38;5;124m\"\u001b[39m\u001b[38;5;124mInferenceComponentName\u001b[39m\u001b[38;5;124m\"\u001b[39m] \u001b[38;5;241m=\u001b[39m inference_component_name\n\u001b[0;32m--> 212\u001b[0m response \u001b[38;5;241m=\u001b[39m \u001b[38;5;28;43mself\u001b[39;49m\u001b[38;5;241;43m.\u001b[39;49m\u001b[43msagemaker_session\u001b[49m\u001b[38;5;241;43m.\u001b[39;49m\u001b[43msagemaker_runtime_client\u001b[49m\u001b[38;5;241;43m.\u001b[39;49m\u001b[43minvoke_endpoint\u001b[49m\u001b[43m(\u001b[49m\u001b[38;5;241;43m*\u001b[39;49m\u001b[38;5;241;43m*\u001b[39;49m\u001b[43mrequest_args\u001b[49m\u001b[43m)\u001b[49m\n\u001b[1;32m    213\u001b[0m \u001b[38;5;28;01mreturn\u001b[39;00m \u001b[38;5;28mself\u001b[39m\u001b[38;5;241m.\u001b[39m_handle_response(response)\n",
      "File \u001b[0;32m/opt/conda/lib/python3.11/site-packages/botocore/client.py:565\u001b[0m, in \u001b[0;36mClientCreator._create_api_method.<locals>._api_call\u001b[0;34m(self, *args, **kwargs)\u001b[0m\n\u001b[1;32m    561\u001b[0m     \u001b[38;5;28;01mraise\u001b[39;00m \u001b[38;5;167;01mTypeError\u001b[39;00m(\n\u001b[1;32m    562\u001b[0m         \u001b[38;5;124mf\u001b[39m\u001b[38;5;124m\"\u001b[39m\u001b[38;5;132;01m{\u001b[39;00mpy_operation_name\u001b[38;5;132;01m}\u001b[39;00m\u001b[38;5;124m() only accepts keyword arguments.\u001b[39m\u001b[38;5;124m\"\u001b[39m\n\u001b[1;32m    563\u001b[0m     )\n\u001b[1;32m    564\u001b[0m \u001b[38;5;66;03m# The \"self\" in this scope is referring to the BaseClient.\u001b[39;00m\n\u001b[0;32m--> 565\u001b[0m \u001b[38;5;28;01mreturn\u001b[39;00m \u001b[38;5;28;43mself\u001b[39;49m\u001b[38;5;241;43m.\u001b[39;49m\u001b[43m_make_api_call\u001b[49m\u001b[43m(\u001b[49m\u001b[43moperation_name\u001b[49m\u001b[43m,\u001b[49m\u001b[43m \u001b[49m\u001b[43mkwargs\u001b[49m\u001b[43m)\u001b[49m\n",
      "File \u001b[0;32m/opt/conda/lib/python3.11/site-packages/botocore/client.py:1017\u001b[0m, in \u001b[0;36mBaseClient._make_api_call\u001b[0;34m(self, operation_name, api_params)\u001b[0m\n\u001b[1;32m   1013\u001b[0m     error_code \u001b[38;5;241m=\u001b[39m error_info\u001b[38;5;241m.\u001b[39mget(\u001b[38;5;124m\"\u001b[39m\u001b[38;5;124mQueryErrorCode\u001b[39m\u001b[38;5;124m\"\u001b[39m) \u001b[38;5;129;01mor\u001b[39;00m error_info\u001b[38;5;241m.\u001b[39mget(\n\u001b[1;32m   1014\u001b[0m         \u001b[38;5;124m\"\u001b[39m\u001b[38;5;124mCode\u001b[39m\u001b[38;5;124m\"\u001b[39m\n\u001b[1;32m   1015\u001b[0m     )\n\u001b[1;32m   1016\u001b[0m     error_class \u001b[38;5;241m=\u001b[39m \u001b[38;5;28mself\u001b[39m\u001b[38;5;241m.\u001b[39mexceptions\u001b[38;5;241m.\u001b[39mfrom_code(error_code)\n\u001b[0;32m-> 1017\u001b[0m     \u001b[38;5;28;01mraise\u001b[39;00m error_class(parsed_response, operation_name)\n\u001b[1;32m   1018\u001b[0m \u001b[38;5;28;01melse\u001b[39;00m:\n\u001b[1;32m   1019\u001b[0m     \u001b[38;5;28;01mreturn\u001b[39;00m parsed_response\n",
      "\u001b[0;31mModelError\u001b[0m: An error occurred (ModelError) when calling the InvokeEndpoint operation: Received server error (0) from primary with message \"Your invocation timed out while waiting for a response from container primary. Review the latency metrics for each container in Amazon CloudWatch, resolve the issue, and try again.\". See https://us-east-1.console.aws.amazon.com/cloudwatch/home?region=us-east-1#logEventViewer:group=/aws/sagemaker/Endpoints/pytorch-inference-2024-11-20-22-55-31-507 in account 339840815706 for more information."
     ]
    }
   ],
   "source": [
    "response = predictor.predict(image)"
   ]
  },
  {
   "cell_type": "code",
   "execution_count": null,
   "metadata": {},
   "outputs": [],
   "source": [
    "# from PIL import Image\n",
    "# img = Image.open(image)\n",
    "# img.show()"
   ]
  },
  {
   "cell_type": "code",
   "execution_count": null,
   "metadata": {},
   "outputs": [],
   "source": [
    "# TODO: Remember to shutdown/delete your endpoint once your work is done\n",
    "#predictor.delete_endpoint()"
   ]
  },
  {
   "cell_type": "code",
   "execution_count": null,
   "metadata": {},
   "outputs": [],
   "source": []
  }
 ],
 "metadata": {
  "instance_type": "ml.g4dn.xlarge",
  "kernelspec": {
   "display_name": "Python 3 (ipykernel)",
   "language": "python",
   "name": "python3"
  },
  "language_info": {
   "codemirror_mode": {
    "name": "ipython",
    "version": 3
   },
   "file_extension": ".py",
   "mimetype": "text/x-python",
   "name": "python",
   "nbconvert_exporter": "python",
   "pygments_lexer": "ipython3",
   "version": "3.11.10"
  }
 },
 "nbformat": 4,
 "nbformat_minor": 4
}
